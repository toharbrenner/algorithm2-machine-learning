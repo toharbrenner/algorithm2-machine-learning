{
  "nbformat": 4,
  "nbformat_minor": 0,
  "metadata": {
    "colab": {
      "provenance": []
    },
    "kernelspec": {
      "display_name": "Python 3",
      "language": "python",
      "name": "python3"
    },
    "language_info": {
      "codemirror_mode": {
        "name": "ipython",
        "version": 3
      },
      "file_extension": ".py",
      "mimetype": "text/x-python",
      "name": "python",
      "nbconvert_exporter": "python",
      "pygments_lexer": "ipython3",
      "version": "3.7.0"
    }
  },
  "cells": [
    {
      "cell_type": "code",
      "metadata": {
        "colab": {
          "base_uri": "https://localhost:8080/"
        },
        "id": "PrakXlHJfw7i",
        "outputId": "0f46804e-2b67-4b46-fdbd-dddcf87fe57d"
      },
      "source": [
        "from google.colab import drive\n",
        "drive.mount('/content/drive')"
      ],
      "execution_count": null,
      "outputs": [
        {
          "output_type": "stream",
          "name": "stdout",
          "text": [
            "Mounted at /content/drive\n"
          ]
        }
      ]
    },
    {
      "cell_type": "code",
      "metadata": {
        "id": "df_ucZCUfnvq"
      },
      "source": [
        "from skimage import filters\n",
        "import numpy as np\n",
        "import cv2\n",
        "import pandas as pd\n",
        "from scipy import ndimage as nd\n",
        "import pickle\n",
        "from skimage.filters import roberts, sobel, scharr, prewitt\n",
        "from matplotlib import pyplot as plt\n",
        "import os\n",
        "import sklearn\n",
        "from imblearn.over_sampling import SMOTE\n",
        "from sklearn import preprocessing\n",
        "from sklearn.metrics import classification_report, confusion_matrix, accuracy_score\n",
        "from sklearn.model_selection import cross_val_score, cross_val_predict\n",
        "from sklearn.utils.class_weight import compute_class_weight\n",
        "import seaborn as sns\n",
        "from sklearn.ensemble import RandomForestClassifier\n",
        "from sklearn.model_selection import GridSearchCV"
      ],
      "execution_count": null,
      "outputs": []
    },
    {
      "cell_type": "code",
      "metadata": {
        "id": "u6BgtRF_fnvv"
      },
      "source": [
        "def remove_background(img,num):    \n",
        "    img = cv2.cvtColor(img,cv2.COLOR_RGB2GRAY)\n",
        "    return img"
      ],
      "execution_count": null,
      "outputs": []
    },
    {
      "cell_type": "code",
      "metadata": {
        "id": "R6p3rHDkbNBY"
      },
      "source": [
        "def cleanData(data):\n",
        "  for i in data.columns:\n",
        "    (unique, counts) = np.unique(data[i], return_counts=True)\n",
        "    frequencies = np.asarray((unique, counts)).T\n",
        "    if len(unique)== 2: \n",
        "      zero = counts[0]\n",
        "      one = counts[1]\n",
        "      proportion = one/(zero+one)\n",
        "      if proportion<0.05 or proportion>0.95: # one percent\n",
        "        data = data.drop([i], axis=1) # we assume the feature is not giving enough information --> will remove this feature\n",
        "    if len(unique)==1:\n",
        "        data=data.drop([i], axis=1) # we assume the feature is not giving enough information --> will remove this feature\n",
        "  return data\n",
        "  \n",
        "def calc_weights_class():\n",
        "  classes = [0,1]\n",
        "  cw = compute_class_weight('balanced', classes, Y) # If ‘balanced’, class weights will be given by n_samples / (n_classes * np.bincount(y))\n",
        "  return cw\n",
        "\n",
        "\n",
        "def remove_less_significant_features(X,feature_importance, names):\n",
        "    sl = 0.005\n",
        "    columns_dropped = np.array([])\n",
        "    for i in range(len(feature_importance.values)): \n",
        "        val=feature_importance[0][i]\n",
        "        col = names[0][i]\n",
        "        if val < sl and val>0 or val>sl and val<0 :\n",
        "            X.drop(col, axis='columns', inplace=True)\n",
        "            columns_dropped = np.append(columns_dropped, [col])\n",
        "    print(\"col droped: \",columns_dropped )\n",
        "    return X\n",
        "\n",
        "\n",
        "def remove_by_featureImp(model,X,Y):\n",
        "    feature_importance = model.feature_importances_\n",
        "    feat_imp=pd.DataFrame(feature_importance) \n",
        "    names=pd.DataFrame(X.columns)\n",
        "    X_new=remove_less_significant_features(X,feat_imp,names)\n",
        "    dataset = pd.concat([X_new, Y], axis=1)\n",
        "    return dataset"
      ],
      "execution_count": null,
      "outputs": []
    },
    {
      "cell_type": "code",
      "metadata": {
        "id": "kRkd9Xc7BWG1"
      },
      "source": [
        "def plot_feature_importance(importance,names,model_type):\n",
        "  feature_importance = np.array(importance)\n",
        "  feature_names = np.array(names)\n",
        "  data={'feature_names':feature_names,'feature_importance':feature_importance}\n",
        "  fi_df = pd.DataFrame(data)\n",
        "  fi_df.sort_values(by=['feature_importance'], ascending=False,inplace=True)\n",
        "  plt.figure(figsize=(10,8))\n",
        "  sns.barplot(x=fi_df['feature_importance'], y=fi_df['feature_names'])\n",
        "  plt.title(model_type + 'FEATURE IMPORTANCE')\n",
        "  plt.xlabel('FEATURE IMPORTANCE')\n",
        "  plt.ylabel('FEATURE NAMES')"
      ],
      "execution_count": null,
      "outputs": []
    },
    {
      "cell_type": "code",
      "metadata": {
        "id": "nY3uU1Z2fnvw"
      },
      "source": [
        "def feature_extraction(temp, img,src):\n",
        "    df = pd.DataFrame()\n",
        "    img2 = img.reshape(-1)\n",
        "    df = pd.DataFrame()\n",
        "    df['Original Image'] = img2\n",
        "   \n",
        "    red_channel = src[:,:,2]\n",
        "    green_channel = src[:,:,1]\n",
        "    blue_channel = src[:,:,0]\n",
        "    df['red*green']=(red_channel.reshape(-1))*green_channel.reshape(-1)\n",
        "    df['blue*green']=(blue_channel.reshape(-1))*green_channel.reshape(-1)\n",
        "    df['red*blue']=(red_channel.reshape(-1))*blue_channel.reshape(-1)\n",
        "\n",
        "    df['red'] = red_channel.reshape(-1)\n",
        "    df['green'] = green_channel.reshape(-1)\n",
        "    df['blue'] = blue_channel.reshape(-1)\n",
        "\n",
        "    pixel_values = img.reshape(-1)\n",
        "    df['Pixel_Value'] = pixel_values   \n",
        "    \n",
        "    # Generate Gabor features # https://en.wikipedia.org/wiki/Gabor_filter#:~:text=In%20image%20processing%2C%20a%20Gabor,point%20or%20region%20of%20analysis.\n",
        "    num = 1  # To count numbers up in order to give Gabor features a lable in the data frame\n",
        "    kernels = []\n",
        "    theta = 0\n",
        "    for theta in range(2): \n",
        "        theta += theta / 4 \n",
        "        for sigma in range(10, 45, 5):\n",
        "            for lamda in np.arange(0, np.pi, np.pi / 4):\n",
        "                for gamma in (0.05, 0.45, 0.05):\n",
        "                    gabor_label = 'Gabor' + str(num)  \n",
        "                    print(gabor_label)\n",
        "                    ksize=9\n",
        "                    kernel = cv2.getGaborKernel((ksize, ksize), sigma, theta, lamda, gamma, 0, ktype=cv2.CV_32F)    \n",
        "                    kernels.append(kernel)\n",
        "                    fimg = cv2.filter2D(img2, cv2.CV_8UC3, kernel)\n",
        "                    filtered_img = fimg.reshape(-1)\n",
        "                    df[gabor_label] = filtered_img \n",
        "                    temp['gabor_label'].append(gabor_label)\n",
        "                    temp['theta'].append(theta)\n",
        "                    temp['sigma'].append(sigma)\n",
        "                    temp['lamda'].append(lamda)\n",
        "                    temp['gamma'].append(gamma)\n",
        "                    num += 1 \n",
        "    return temp\n",
        "\n",
        "\n",
        "    # CANNY EDGE\n",
        "    edges = cv2.Canny(img, 100,200)  \n",
        "    edges1 = edges.reshape(-1)\n",
        "    df['Canny Edge'] = edges1 \n",
        "\n",
        "    # ROBERTS EDGE\n",
        "    edge_roberts = roberts(img)\n",
        "    edge_roberts1 = edge_roberts.reshape(-1)\n",
        "    df['Roberts'] = edge_roberts1\n",
        "\n",
        "    # SOBEL\n",
        "    edge_sobel = sobel(img)\n",
        "    edge_sobel1 = edge_sobel.reshape(-1)\n",
        "    df['Sobel'] = edge_sobel1\n",
        "\n",
        "    # SCHARR\n",
        "    edge_scharr = scharr(img)\n",
        "    edge_scharr1 = edge_scharr.reshape(-1)\n",
        "    df['Scharr'] = edge_scharr1\n",
        "\n",
        "    # PREWITT\n",
        "    edge_prewitt = prewitt(img)\n",
        "    edge_prewitt1 = edge_prewitt.reshape(-1)\n",
        "    df['Prewitt'] = edge_prewitt1\n",
        "\n",
        "    # GAUSSIAN with sigma = 3\n",
        "    from scipy import ndimage as nd\n",
        "    gaussian_img = nd.gaussian_filter(img, sigma=3)\n",
        "    gaussian_img1 = gaussian_img.reshape(-1)\n",
        "    df['Gaussian s3'] = gaussian_img1\n",
        "\n",
        "    # GAUSSIAN with sigma = 7\n",
        "    gaussian_img2 = nd.gaussian_filter(img, sigma=7)\n",
        "    gaussian_img3 = gaussian_img2.reshape(-1)\n",
        "    df['Gaussian s7'] = gaussian_img3\n",
        "\n",
        "    # MEDIAN \n",
        "    median_img = nd.median_filter(img, size=3)\n",
        "    median_img1 = median_img.reshape(-1)\n",
        "    df['Median s3'] = median_img1\n",
        "    \n",
        "    \n",
        "    # VARIANCE \n",
        "    variance_img = nd.generic_filter(img, np.var, size=3)\n",
        "    variance_img1 = variance_img.reshape(-1)\n",
        "    df['Variance s3'] = variance_img1 \n",
        "\n",
        "    return df"
      ],
      "execution_count": null,
      "outputs": []
    },
    {
      "cell_type": "code",
      "metadata": {
        "id": "SllAqK3abYHm"
      },
      "source": [
        "import math\n",
        "def preformance_measures(groundtruth_list, predicted_list):\n",
        "    TN, FP, FN, TP = sklearn.metrics.confusion_matrix(groundtruth_list, predicted_list).ravel()\n",
        "    print(\"Semantic segmentation measures\")\n",
        "    print(\"Pixel accuracy = \",sklearn.metrics.accuracy_score(groundtruth_list, predicted_list))\n",
        "    print(\"IoU = \",TP/(TP+FP+FN))\n",
        "\n",
        "    print(\"Imbalanced dataset measures\")\n",
        "    print(\"MCC = \",sklearn.metrics.matthews_corrcoef(groundtruth_list, predicted_list))\n",
        "    print(\"F1 score = \",sklearn.metrics.f1_score(groundtruth_list, predicted_list,average='weighted'))\n",
        "    print(\"Weighted TPR − TNR = \",(0.05*(TP/(TP+FN))+0.95*(TN/(TN+FP))))\n",
        "    print(\"Geometric mean = \", math.sqrt((TP/(TP+FN))*(TN/(TN+FP))))\n",
        "    print(\"TPR = \", TP/(TP+FN)) \n",
        "    print(\"FPR = \", FN/(TP+FN)) \n",
        "    print(\"recall = \",sklearn.metrics.recall_score(groundtruth_list, predicted_list))\n",
        "    FPR, TPR, _ = sklearn.metrics.roc_curve(groundtruth_list, predicted_list)\n",
        "    print(\"AUC of ROC Curve = \", sklearn.metrics.roc_auc_score(groundtruth_list, predicted_list,average='weighted'))\n",
        "    plt.plot(FPR, TPR)\n",
        "    plt.title(\"ROC Curve\")\n",
        "    plt.xlabel(\"False Positive Rate\")\n",
        "    plt.ylabel(\"True Positive Rate\")\n",
        "    plt.show()     \n",
        "          \n",
        "    cf_matrix = confusion_matrix(y_true = groundtruth_list,y_pred = predicted_list)\n",
        "    group_names = [\"True Neg\",\"False Pos\",\"False Neg\",\"True Pos\"]\n",
        "    group_counts = ['{0:0.0f}'.format(value) for value in\n",
        "                    cf_matrix.flatten()]\n",
        "    group_percentages = ['{0:.2%}'.format(value) for value in\n",
        "                         cf_matrix.flatten()/np.sum(cf_matrix)]\n",
        "    labels = [f'{v1}\\n{v2}\\n{v3}' for v1, v2, v3 in\n",
        "              zip(group_names,group_counts,group_percentages)]\n",
        "    labels = np.asarray(labels).reshape(2,2)\n",
        "    sns.heatmap(cf_matrix, annot=labels, fmt=\"\", cmap='Blues')"
      ],
      "execution_count": null,
      "outputs": []
    },
    {
      "cell_type": "code",
      "metadata": {
        "id": "lqgDncztfnvz"
      },
      "source": [
        "image_dataset = pd.DataFrame()  \n",
        "img_path = r'/content/drive/MyDrive/Colab Notebooks/tesis/all_images/'\n",
        "\n",
        "for image in sorted(os.listdir(img_path)):\n",
        "    if image.endswith('.json'):\n",
        "      continue\n",
        "    else:  \n",
        "      print(image) \n",
        "      df = pd.DataFrame() \n",
        "      input_img = cv2.imread(img_path + image)  \n",
        "      input_img = cv2.resize(input_img, (244,244))\n",
        "      img = remove_background(input_img,1)\n",
        "\n",
        "image_dataset=cleanData(image_dataset)\n",
        "\n"
      ],
      "execution_count": null,
      "outputs": []
    },
    {
      "cell_type": "code",
      "metadata": {
        "id": "d6gnJ_Tyfnv3"
      },
      "source": [
        "mask_dataset = pd.DataFrame() \n",
        "\n",
        "mask_path = r'/content/drive/MyDrive/Colab Notebooks/segmentation/Branch/ground_truth/skeleton/'  \n",
        "mask_list = sorted(os.listdir(mask_path))  \n",
        "for mask in mask_list:  \n",
        "    print(mask)\n",
        "    \n",
        "    df2 = pd.DataFrame()  \n",
        "    input_mask = cv2.imread(mask_path + mask)\n",
        "    input_mask = cv2.resize(input_mask, (244,244), interpolation =cv2.INTER_NEAREST)\n",
        "    label = cv2.cvtColor(input_mask,cv2.COLOR_BGR2GRAY)\n",
        "    df2['Label_Value'] = label.reshape(-1)\n",
        "\n",
        "    mask_dataset = mask_dataset.append(df2)"
      ],
      "execution_count": null,
      "outputs": []
    },
    {
      "cell_type": "code",
      "metadata": {
        "colab": {
          "base_uri": "https://localhost:8080/"
        },
        "id": "8ysiqg-Vfnv4",
        "outputId": "51dab43f-3c3e-490e-c2d1-d08ec9934e5c"
      },
      "source": [
        "dataset = pd.concat([image_dataset, mask_dataset], axis=1)\n",
        "\n",
        "import pickle\n",
        "\n",
        "filename = \"data\"\n",
        "pickle.dump(dataset, open(filename, 'wb'))\n",
        "\n",
        "print(\"done\")    "
      ],
      "execution_count": null,
      "outputs": [
        {
          "output_type": "stream",
          "text": [
            "done\n"
          ],
          "name": "stdout"
        }
      ]
    },
    {
      "cell_type": "code",
      "metadata": {
        "id": "HTdVIpAHfnv5"
      },
      "source": [
        "dataset=pickle.load(open(\"data\", 'rb'))\n",
        "dataset=pd.DataFrame(dataset)\n",
        "dataset=dataset.drop_duplicates(subset=None, keep='first', inplace=False)\n",
        "\n",
        "X = pd.DataFrame(dataset.drop(labels = [\"Label_Value\"], axis=1)) \n",
        "\n",
        " \n",
        "scale = sklearn.preprocessing.StandardScaler()\n",
        "X = pd.DataFrame(scale.fit_transform(X))\n",
        "\n",
        "Y = pd.DataFrame(dataset[\"Label_Value\"].values /255)\n",
        "\n",
        "from sklearn.preprocessing import LabelEncoder\n",
        "Y = LabelEncoder().fit_transform(Y)\n",
        "\n",
        "from sklearn.model_selection import train_test_split\n",
        "X_train, X_test, y_train, y_test = train_test_split(X, Y, test_size=0.2, random_state=20)\n",
        "\n",
        "X_train.shape"
      ],
      "execution_count": null,
      "outputs": []
    },
    {
      "cell_type": "code",
      "metadata": {
        "colab": {
          "base_uri": "https://localhost:8080/",
          "height": 265
        },
        "id": "hsKVwGFAxVcc",
        "outputId": "2e5f0c53-9a56-4057-c7be-ea055b915b30"
      },
      "source": [
        "import numpy as np\n",
        "import matplotlib.pyplot as plt\n",
        "import skimage.data as data\n",
        "import skimage.segmentation as seg\n",
        "import skimage.filters as filters\n",
        "import skimage.draw as draw\n",
        "import skimage.color as color\n",
        "\n",
        "def image_show(image, nrows=1, ncols=1, cmap='gray'):\n",
        "    fig, ax = plt.subplots(nrows=nrows, ncols=ncols, figsize=(14, 14))\n",
        "    ax.imshow(image, cmap='gray')\n",
        "    ax.axis('off')\n",
        "    return fig, ax\n",
        "\n",
        "fig, ax = plt.subplots(1, 1)\n",
        "ax.hist(input_img.ravel(), bins=32, range=[0, 256])\n",
        "ax.set_xlim(0, 256);"
      ],
      "execution_count": null,
      "outputs": [
        {
          "output_type": "display_data",
          "data": {
            "image/png": "[encoded data removed]",
            "text/plain": [
              "<Figure size 432x288 with 1 Axes>"
            ]
          },
          "metadata": {
            "tags": []
          }
        }
      ]
    },
    {
      "cell_type": "code",
      "metadata": {
        "colab": {
          "base_uri": "https://localhost:8080/",
          "height": 341
        },
        "id": "nC8YAOH4VgwK",
        "outputId": "7c535ef7-51b9-49f4-f00e-ca5562d73d69"
      },
      "source": [
        "value_counts = dataset['Label_Value'].value_counts()\n",
        "plt.figure(figsize=(6,4))\n",
        "sns.barplot(value_counts.index, value_counts.values, alpha=0.8)\n",
        "plt.ylabel('Count', fontsize=12)\n",
        "plt.xlabel('Label', fontsize=9)\n",
        "plt.xticks(rotation=90)\n",
        "plt.show()"
      ],
      "execution_count": null,
      "outputs": [
        {
          "output_type": "stream",
          "text": [
            "/usr/local/lib/python3.7/dist-packages/seaborn/_decorators.py:43: FutureWarning: Pass the following variables as keyword args: x, y. From version 0.12, the only valid positional argument will be `data`, and passing other arguments without an explicit keyword will result in an error or misinterpretation.\n",
            "  FutureWarning\n"
          ],
          "name": "stderr"
        },
        {
          "output_type": "display_data",
          "data": {
            "image/png": "[encoded data removed]",
            "text/plain": [
              "<Figure size 432x288 with 1 Axes>"
            ]
          },
          "metadata": {
            "tags": []
          }
        }
      ]
    },
    {
      "cell_type": "code",
      "metadata": {
        "id": "9AaOWkzcVzuf"
      },
      "source": [
        "import seaborn as sns\n",
        "sns.set_style(\"white\")\n",
        "for i in dataset.columns:\n",
        "  x1 = dataset.loc[dataset[\"Label_Value\"] == 0, i]\n",
        "  x2 = dataset.loc[dataset[\"Label_Value\"] == 255, i]\n",
        "\n",
        "  # Plot\n",
        "  kwargs = dict(hist_kws={'alpha':.6}, kde_kws={'linewidth':2})\n",
        "\n",
        "  plt.figure(figsize=(10,7), dpi= 80)\n",
        "  sns.distplot(x1, color=\"dodgerblue\", label=\"0\", **kwargs)\n",
        "  sns.distplot(x2, color=\"orange\", label=\"1\", **kwargs)\n",
        "  plt.legend();"
      ],
      "execution_count": null,
      "outputs": []
    },
    {
      "cell_type": "markdown",
      "metadata": {
        "id": "aD5q6vAffnv6"
      },
      "source": [
        "### Random Forest\n",
        "    "
      ]
    },
    {
      "cell_type": "code",
      "metadata": {
        "colab": {
          "base_uri": "https://localhost:8080/",
          "height": 747
        },
        "collapsed": true,
        "id": "_oE-fMB_fnv6",
        "outputId": "7b9ee34c-0d8d-41c7-83aa-630715cb625a"
      },
      "source": [
        "from sklearn.ensemble import RandomForestClassifier\n",
        "cw = calc_weights_class() # tree class's weights \n",
        "print(cw)\n",
        "model = RandomForestClassifier(n_estimators = 100,criterion='gini',max_depth=8, random_state = 42,class_weight={0: cw[0], 1: cw[1]},verbose=2)\n",
        "model=model.fit(X_train,y_train)\n",
        "predicted_list=model.predict(X_test)\n",
        "preformance_measures(y_test, predicted_list)"
      ],
      "execution_count": null,
      "outputs": [
        {
          "output_type": "stream",
          "text": [
            "[ 0.52359553 11.09522722]\n",
            "Semantic segmentation measures\n",
            "Pixel accuracy =  0.8149831456254274\n",
            "IoU =  0.1478900719103629\n",
            "Imbalanced dataset measures\n",
            "MCC =  0.27346692685898716\n",
            "F1 score =  0.8655562962024537\n",
            "Weighted TPR − TNR =  0.8144569886813395\n",
            "Geometric mean =  0.7633522153498471\n",
            "TPR =  0.7106884543262791\n",
            "FPR =  0.28931154567372086\n",
            "AUC of ROC Curve =  0.7653034724078898\n"
          ],
          "name": "stdout"
        },
        {
          "output_type": "display_data",
          "data": {
            "image/png": "[encoded data removed]",
            "text/plain": [
              "<Figure size 432x288 with 1 Axes>"
            ]
          },
          "metadata": {
            "tags": []
          }
        },
        {
          "output_type": "display_data",
          "data": {
            "image/png": "[encoded data removed]",
            "text/plain": [
              "<Figure size 432x288 with 2 Axes>"
            ]
          },
          "metadata": {
            "tags": []
          }
        }
      ]
    },
    {
      "cell_type": "code",
      "metadata": {
        "colab": {
          "base_uri": "https://localhost:8080/",
          "height": 513
        },
        "id": "35mj6Ath96KE",
        "outputId": "e6691a9d-879a-4aa0-e9db-f28964cd41a9"
      },
      "source": [
        "plot_feature_importance(model.feature_importances_,X.columns,'RANDOM FOREST')"
      ],
      "execution_count": null,
      "outputs": [
        {
          "output_type": "display_data",
          "data": {
            "image/png": "[encoded data removed]",
            "text/plain": [
              "<Figure size 720x576 with 1 Axes>"
            ]
          },
          "metadata": {
            "tags": []
          }
        }
      ]
    },
    {
      "cell_type": "code",
      "metadata": {
        "id": "nwkktPMsm6g6"
      },
      "source": [
        "X = pd.DataFrame(dataset.drop(labels = [\"Label_Value\"], axis=1)) \n",
        "Y_new=pd.DataFrame(dataset[\"Label_Value\"].values /255)\n",
        "new_data=remove_by_featureImp(model,X,Y_new)"
      ],
      "execution_count": null,
      "outputs": []
    },
    {
      "cell_type": "code",
      "metadata": {
        "id": "Z5VzX9deGnwy"
      },
      "source": [
        "# SVM\n",
        "X_new = pd.DataFrame(dataset.drop(labels = ['Gabor16', 'Gabor17', 'Gabor18', 'Gabor28','Gabor29', 'Gabor30' ,'Gabor40','Label_Value' ,'Gabor41' ,'Gabor42', 'Gabor52', 'Gabor53' ,'Gabor54', 'Gabor64', 'Gabor65','Gabor66', 'Gabor76', 'Gabor77', 'Gabor78', 'Gabor104' ,'Gabor136', 'Gabor138', 'Gabor148' ,'Gabor150'], axis=1)) \n",
        "X_train, X_test, y_train, y_test = train_test_split(X_new,Y, test_size=0.2, random_state=20)\n"
      ],
      "execution_count": null,
      "outputs": []
    },
    {
      "cell_type": "code",
      "metadata": {
        "id": "w8fO9mXWbag0"
      },
      "source": [
        "predicted_list=best_grid.predict(X_test)\n",
        "preformance_measures(y_test, predicted_list)"
      ],
      "execution_count": null,
      "outputs": []
    },
    {
      "cell_type": "code",
      "metadata": {
        "id": "9m4p6YyiB-ae"
      },
      "source": [
        "import math\n",
        "\n",
        "cw = calc_weights_class() # tree class's weights \n",
        "\n",
        "param_grid = { \n",
        "    'n_estimators': [200,300],\n",
        "    'max_depth' : [8,14],\n",
        "    'criterion' :['gini', 'entropy']\n",
        "}\n",
        "# Create a based model\n",
        "rf=RandomForestClassifier(random_state=42,class_weight={0: cw[0], 1: cw[1]})\n",
        "# Instantiate the grid search model\n",
        "grid_search = GridSearchCV(estimator = rf,verbose=3, param_grid = param_grid,scoring='roc_auc_ovo_weighted',cv=5)# cv=10 for cross validation tunning\n",
        "# fit it \n",
        "grid_search.fit(X_train, y_train)\n",
        "# best parms\n",
        "grid_search.best_params_\n",
        "# best estimator \n",
        "best_grid = grid_search.best_estimator_\n",
        "\n",
        "results_df = pd.DataFrame(grid_search.cv_results_)\n",
        "\n",
        "# create df of model scores ordered by perfomance\n",
        "model_scores = results_df.filter(regex=r'split\\d*_test_score')\n",
        "\n",
        "# plot 30 examples of dependency between cv fold and AUC scores\n",
        "fig, ax = plt.subplots()\n",
        "sns.lineplot(\n",
        "    data=model_scores.transpose().iloc[:30],\n",
        "    dashes=False, palette='Set1', marker='o', alpha=.5, ax=ax\n",
        ")\n",
        "ax.set_xlabel(\"CV test fold\", size=12, labelpad=10)\n",
        "ax.set_ylabel(\"Model AUC\", size=12)\n",
        "ax.tick_params(bottom=True, labelbottom=False)\n",
        "plt.show()\n",
        "\n",
        "# print correlation of AUC scores across folds\n",
        "print(f\"Correlation of models:\\n {model_scores.transpose().corr()}\")\n",
        "\n",
        "\n",
        "predicted_list=best_grid.predict(X_test)\n",
        "preformance_measures(y_test, predicted_list)"
      ],
      "execution_count": null,
      "outputs": []
    },
    {
      "cell_type": "markdown",
      "metadata": {
        "id": "B2yyjFhQjD1_"
      },
      "source": [
        "### SVM\n"
      ]
    },
    {
      "cell_type": "code",
      "metadata": {
        "id": "9IIbUtrp4_-X"
      },
      "source": [
        "from sklearn.pipeline import Pipeline\n",
        "from sklearn.svm import LinearSVC\n",
        "from sklearn.model_selection import GridSearchCV\n",
        "from sklearn.preprocessing import StandardScaler\n",
        "from sklearn import svm\n",
        "\n",
        "# cw = calc_weights_class() # tree class's weights \n",
        "param_grid = { \n",
        "    'C' : [10,15,20,50],\n",
        "    'gamma': ['scale', 'auto']\n",
        "}\n",
        "\n",
        "grid_search = GridSearchCV(estimator=svm.SVC(kernel='linear',C=10, class_weight='balanced',max_iter=1500), param_grid = param_grid,scoring='accuracy',cv=5,verbose=3)\n",
        "grid_search.fit(X_train, y_train)\n",
        "\n",
        "# best parms\n",
        "grid_search.best_params_\n",
        "# best estimator \n",
        "best_grid = grid_search.best_estimator_\n",
        "\n",
        "# evaluation\n",
        "results_df = pd.DataFrame(grid_search.cv_results_)\n",
        "\n",
        "# create df of model scores ordered by perfomance\n",
        "model_scores = results_df.filter(regex=r'split\\d*_test_score')\n",
        "\n",
        "# plot 30 examples of dependency between cv fold and AUC scores\n",
        "fig, ax = plt.subplots()\n",
        "sns.lineplot(\n",
        "    data=model_scores.transpose().iloc[:30],\n",
        "    dashes=False, palette='Set1', marker='o', alpha=.5, ax=ax\n",
        ")\n",
        "ax.set_xlabel(\"CV test fold\", size=12, labelpad=10)\n",
        "ax.set_ylabel(\"Model AUC\", size=12)\n",
        "ax.tick_params(bottom=True, labelbottom=False)\n",
        "plt.show()\n",
        "\n",
        "# print correlation of AUC scores across folds\n",
        "print(f\"Correlation of models:\\n {model_scores.transpose().corr()}\")\n",
        "\n",
        "\n",
        "predicted_list=best_grid.predict(X_test)\n",
        "preformance_measures(y_test, predicted_list)"
      ],
      "execution_count": null,
      "outputs": []
    },
    {
      "cell_type": "code",
      "metadata": {
        "colab": {
          "base_uri": "https://localhost:8080/"
        },
        "id": "YDSW_cSnfnv8",
        "outputId": "9b1fa4c5-a7d4-4446-cc1f-1cd7d9e8a57a"
      },
      "source": [
        "from sklearn.svm import LinearSVC\n",
        "from sklearn import svm\n",
        "\n",
        "cw = calc_weights_class() # tree class's weights \n",
        "\n",
        "model = LinearSVC(C=10, class_weight={0: 0.5, 1: 11}, dual=True, fit_intercept=True,\n",
        "          intercept_scaling=1, loss='squared_hinge', max_iter=1000,\n",
        "          multi_class='ovr', penalty='l2', random_state=0, tol=0.0001,\n",
        "          verbose=2)\n",
        "model=model.fit(X_train,y_train)"
      ],
      "execution_count": null,
      "outputs": [
        {
          "output_type": "stream",
          "text": [
            "[LibLinear]"
          ],
          "name": "stdout"
        },
        {
          "output_type": "stream",
          "text": [
            "/usr/local/lib/python3.7/dist-packages/sklearn/svm/_base.py:947: ConvergenceWarning: Liblinear failed to converge, increase the number of iterations.\n",
            "  \"the number of iterations.\", ConvergenceWarning)\n"
          ],
          "name": "stderr"
        }
      ]
    },
    {
      "cell_type": "code",
      "metadata": {
        "id": "ButrqRmamDpW"
      },
      "source": [
        "predicted_list=model.predict(X_test)\n",
        "preformance_measures(y_test, predicted_list)\n",
        "plot_feature_importance(model.feature_importances_,X.columns,'LINEAR SVM')\n"
      ],
      "execution_count": null,
      "outputs": []
    },
    {
      "cell_type": "code",
      "metadata": {
        "id": "9D5hFqrA_G7z"
      },
      "source": [
        "from sklearn import svm\n",
        "\n",
        "def f_importances(coef, names):\n",
        "    imp = coef\n",
        "    imp,names = zip(*sorted(zip(imp,names)))\n",
        "    plt.barh(range(len(names)), imp, align='center')\n",
        "    plt.yticks(range(len(names)), names)\n",
        "    plt.show()\n",
        "features_names=X.columns\n",
        "svm = svm.SVC(kernel='linear',C=10, class_weight={0: 0.5, 1: 11},max_iter=1500,verbose=3)\n",
        "svm.fit(X_train,y_train)\n",
        "f_importances(svm.coef_[0], features_names)\n",
        "predicted_list=svm.predict(X_test)\n",
        "preformance_measures(y_test, predicted_list)"
      ],
      "execution_count": null,
      "outputs": []
    },
    {
      "cell_type": "code",
      "metadata": {
        "id": "pgdg5n7raDF0"
      },
      "source": [
        "def remove_less_significant_features(X,feature_importance, names):\n",
        "    sl = 0.1\n",
        "    columns_dropped = np.array([])\n",
        "    for i in range(len(feature_importance.values)): \n",
        "        val=feature_importance[0][i]\n",
        "        col = names[0][i]\n",
        "        if val < sl and val>0 or val>sl and val<0 :\n",
        "            X.drop(col, axis='columns', inplace=True)\n",
        "            columns_dropped = np.append(columns_dropped, [col])\n",
        "    print(\"col droped: \",columns_dropped )\n",
        "    return X\n",
        "\n",
        "remove_less_significant_features(X,pd.DataFrame(svm.coef_[0]),pd.DataFrame(X.columns))"
      ],
      "execution_count": null,
      "outputs": []
    },
    {
      "cell_type": "code",
      "metadata": {
        "id": "Wa3RhpLQ3ElP"
      },
      "source": [
        "predicted_list=svm.predict(X_test)\n",
        "preformance_measures(y_test, predicted_list)"
      ],
      "execution_count": null,
      "outputs": []
    },
    {
      "cell_type": "code",
      "metadata": {
        "colab": {
          "base_uri": "https://localhost:8080/",
          "height": 513
        },
        "id": "UTNWQZCt3xAK",
        "outputId": "0e4126ab-85e2-41a5-aa90-6098867ef54d"
      },
      "source": [
        "plot_feature_importance(svm.coef_[0],X.columns,'LINEAR SVM ')\n",
        "# f_importances(svm.coef_[0], X_train.columns)\n"
      ],
      "execution_count": null,
      "outputs": [
        {
          "output_type": "display_data",
          "data": {
            "image/png": "[encoded data removed]",
            "text/plain": [
              "<Figure size 720x576 with 1 Axes>"
            ]
          },
          "metadata": {
            "tags": []
          }
        }
      ]
    },
    {
      "cell_type": "code",
      "metadata": {
        "id": "DoBUDPzk5g8H"
      },
      "source": [
        "remove_less_significant_features(X,pd.DataFrame(svm.coef_[0]),pd.DataFrame(X.columns))"
      ],
      "execution_count": null,
      "outputs": []
    }
  ]
}